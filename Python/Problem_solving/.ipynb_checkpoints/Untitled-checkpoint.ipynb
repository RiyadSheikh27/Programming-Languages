{
 "cells": [
  {
   "cell_type": "code",
   "execution_count": 1,
   "id": "32854a53-2117-40d6-a47e-3c794bcf1b94",
   "metadata": {},
   "outputs": [
    {
     "name": "stdout",
     "output_type": "stream",
     "text": [
      "Hello\n"
     ]
    }
   ],
   "source": [
    "print(\"Hello\")"
   ]
  },
  {
   "cell_type": "code",
   "execution_count": null,
   "id": "a5d371e0-d1f7-4f51-a170-dddf78b15b07",
   "metadata": {},
   "outputs": [],
   "source": [
    "def cm_to_ft(cm):\n",
    "    return cm / 30.48\n",
    "\n",
    "\n",
    "def riyad():\n",
    "    while True:\n",
    "        print(\"1.Convert cm to ft: \")\n",
    "        print(\"2.Convert km to miles: \")\n",
    "        print(\"3.Convert USD to BDT(TK): \")\n",
    "        print(\"4.Exit\")\n",
    "\n",
    "        choice = input(\"Enter Your Choice(1-4): \")\n",
    "\n",
    "        if choice == '1':\n",
    "            cm = float(input(\"Enter Value in cm: \"))\n",
    "            ft = cm_to_ft(cm):.2f\n",
    "            print(f\"{cm} cm = {ft} ft\")\n",
    "        else:\n",
    "\n",
    "riyad()\n",
    "        "
   ]
  },
  {
   "cell_type": "code",
   "execution_count": null,
   "id": "ed40dba9-0021-4982-9f67-8a6e2e50181e",
   "metadata": {},
   "outputs": [],
   "source": []
  }
 ],
 "metadata": {
  "kernelspec": {
   "display_name": "Python 3 (ipykernel)",
   "language": "python",
   "name": "python3"
  },
  "language_info": {
   "codemirror_mode": {
    "name": "ipython",
    "version": 3
   },
   "file_extension": ".py",
   "mimetype": "text/x-python",
   "name": "python",
   "nbconvert_exporter": "python",
   "pygments_lexer": "ipython3",
   "version": "3.11.0"
  }
 },
 "nbformat": 4,
 "nbformat_minor": 5
}
